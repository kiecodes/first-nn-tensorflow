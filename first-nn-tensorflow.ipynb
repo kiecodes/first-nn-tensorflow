{
 "cells": [
  {
   "cell_type": "code",
   "execution_count": null,
   "id": "777c6b73-63af-4547-8005-69d891b2c9c0",
   "metadata": {},
   "outputs": [],
   "source": [
    "import tensorflow as tf\n",
    "from tensorflow.keras import layers, models\n",
    "import matplotlib.pyplot as plt\n",
    "import numpy as np"
   ]
  },
  {
   "cell_type": "code",
   "execution_count": null,
   "id": "208f9d6d-8463-4a32-be8d-0c6a275a21b4",
   "metadata": {},
   "outputs": [],
   "source": [
    "(train_images, train_labels), (test_images, test_labels) = tf.keras.datasets.mnist.load_data()\n",
    "train_images = train_images.astype('float32') / 255\n",
    "test_images = test_images.astype('float32') / 255"
   ]
  },
  {
   "cell_type": "code",
   "execution_count": null,
   "id": "540a7900-0890-4420-b0bd-a3db0703046b",
   "metadata": {},
   "outputs": [],
   "source": [
    "print('Number of images in the training dataset:', train_images.shape[0])\n",
    "print('Number of images in the testing dataset:', test_images.shape[0])"
   ]
  },
  {
   "cell_type": "code",
   "execution_count": null,
   "id": "481d1f9e-3c4e-42df-a531-d6df64232fee",
   "metadata": {},
   "outputs": [],
   "source": [
    "print(f\"Shape of the images in the training dataset: {train_images[0].shape}\")"
   ]
  },
  {
   "cell_type": "code",
   "execution_count": null,
   "id": "ee0524ee-4d41-47d4-9691-ccca267b1643",
   "metadata": {},
   "outputs": [],
   "source": [
    "fig, axes = plt.subplots(1, 10, figsize=(10, 10))\n",
    "for i in range(10):\n",
    "    axes[i].imshow(train_images[i].reshape(28, 28), cmap='gray')\n",
    "    axes[i].set_title(train_labels[i])\n",
    "    axes[i].axis('off')\n",
    "plt.show()"
   ]
  },
  {
   "cell_type": "code",
   "execution_count": null,
   "id": "a915a11e-ea09-43c1-a03d-8862df5fecd8",
   "metadata": {},
   "outputs": [],
   "source": [
    "model = models.Sequential([\n",
    "    layers.Flatten(input_shape=(28, 28, 1)),\n",
    "    layers.Dense(128, activation='relu'),\n",
    "    layers.Dense(64, activation='relu'),\n",
    "    layers.Dense(10, activation='softmax')\n",
    "])"
   ]
  },
  {
   "cell_type": "code",
   "execution_count": null,
   "id": "d0851257-2e8f-46ea-ba17-3e1bb71eb2c9",
   "metadata": {},
   "outputs": [],
   "source": [
    "model.compile(optimizer='adam',\n",
    "              loss='sparse_categorical_crossentropy',\n",
    "              metrics=['accuracy'])\n",
    "\n",
    "history = model.fit(\n",
    "    train_images, \n",
    "    train_labels, \n",
    "    epochs=5\n",
    ")"
   ]
  },
  {
   "cell_type": "code",
   "execution_count": null,
   "id": "036f5744-42b5-46e1-9b84-1b5624a0c59a",
   "metadata": {},
   "outputs": [],
   "source": [
    "def view_classify(image, probabilities):\n",
    "    fig, (ax1, ax2) = plt.subplots(figsize=(6,9), ncols=2)\n",
    "    ax1.imshow(image)\n",
    "    ax1.axis('off')\n",
    "    ax2.barh(np.arange(10), probabilities)\n",
    "    ax2.set_aspect(0.1)\n",
    "    ax2.set_yticks(np.arange(10))\n",
    "    ax2.set_yticklabels(np.arange(10))\n",
    "    ax2.set_title('Class Probability')\n",
    "    ax2.set_xlim(0, 1.1)\n",
    "    plt.tight_layout()"
   ]
  },
  {
   "cell_type": "code",
   "execution_count": null,
   "id": "9b119857-ed09-45d3-a598-22ff78b419f3",
   "metadata": {},
   "outputs": [],
   "source": [
    "image, label = test_images[0], test_labels[0]\n",
    "probabilities = model.predict(image.reshape(1, 28, 28, 1))\n",
    "view_classify(image,  probabilities[0])"
   ]
  },
  {
   "cell_type": "code",
   "execution_count": null,
   "id": "0435f480-ebc1-4eb5-b493-07938b09fd54",
   "metadata": {},
   "outputs": [],
   "source": [
    "test_loss, test_accuracy = model.evaluate(test_images, test_labels)\n",
    "print(f'Accuracy of the neural network on the {test_images.shape[0]} test images: {test_accuracy * 100:.2f}%')"
   ]
  },
  {
   "cell_type": "code",
   "execution_count": null,
   "id": "489b9f05-63be-4c5b-8e3b-af78a29d2f12",
   "metadata": {},
   "outputs": [],
   "source": []
  }
 ],
 "metadata": {
  "kernelspec": {
   "display_name": "Python 3 (ipykernel)",
   "language": "python",
   "name": "python3"
  },
  "language_info": {
   "codemirror_mode": {
    "name": "ipython",
    "version": 3
   },
   "file_extension": ".py",
   "mimetype": "text/x-python",
   "name": "python",
   "nbconvert_exporter": "python",
   "pygments_lexer": "ipython3",
   "version": "3.11.7"
  }
 },
 "nbformat": 4,
 "nbformat_minor": 5
}
